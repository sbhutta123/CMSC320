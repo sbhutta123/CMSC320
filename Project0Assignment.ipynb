{
  "cells": [
    {
      "cell_type": "markdown",
      "metadata": {
        "id": "view-in-github",
        "colab_type": "text"
      },
      "source": [
        "<a href=\"https://colab.research.google.com/github/sbhutta123/CMSC320/blob/proj0/Project0Assignment.ipynb\" target=\"_parent\"><img src=\"https://colab.research.google.com/assets/colab-badge.svg\" alt=\"Open In Colab\"/></a>"
      ]
    },
    {
      "cell_type": "markdown",
      "metadata": {
        "id": "sKZ6kpW_rBT0"
      },
      "source": [
        "This assignment is intended to ensure that you are able to edit and submit Jupyter Notebooks.\n",
        "\n",
        "The goal is to write a function to count the frequency of different characters in a given string. For example: character_frequency('google') should return a `dict`: {'g': 2, 'o': 2, 'l': 1, 'e': 1}.\n",
        "\n",
        "There are many tutorials on the web that can show you how to use the Python data structures. Quite a few examples at: https://docs.python.org/3/tutorial/datastructures.html\n",
        "\n",
        "If you have any trouble with this at all (and we are sure at least some of you will), don't worry and stop by our office hours.\n",
        "\n",
        "You should edit the function definition below, make sure to press 'Shift + Enter' to execute it, and then execute the two function calls to check that the output is correct."
      ]
    },
    {
      "cell_type": "code",
      "execution_count": 2,
      "metadata": {
        "id": "RLbnPzucrBUB"
      },
      "outputs": [],
      "source": [
        "def character_frequency(s):\n",
        "    ret = dict()\n",
        "\n",
        "    for char in s:\n",
        "      if (ret.get(char) == None):\n",
        "        ret[char] = 1\n",
        "      else:\n",
        "        ret[char] = ret[char] + 1\n",
        "\n",
        "    return ret"
      ]
    },
    {
      "cell_type": "code",
      "execution_count": 3,
      "metadata": {
        "colab": {
          "base_uri": "https://localhost:8080/"
        },
        "id": "IeqHTzVKrBUH",
        "outputId": "dcab5ca9-8f8d-48dc-cfe0-3774742aabc5"
      },
      "outputs": [
        {
          "output_type": "execute_result",
          "data": {
            "text/plain": [
              "{'g': 2, 'o': 2, 'l': 1, 'e': 1}"
            ]
          },
          "metadata": {},
          "execution_count": 3
        }
      ],
      "source": [
        "character_frequency('google')"
      ]
    },
    {
      "cell_type": "code",
      "execution_count": 6,
      "metadata": {
        "colab": {
          "base_uri": "https://localhost:8080/"
        },
        "id": "VmYRuFenrBUM",
        "outputId": "8dd5d9d5-6f7a-452b-8716-226f6110d4f1"
      },
      "outputs": [
        {
          "output_type": "execute_result",
          "data": {
            "text/plain": [
              "{'T': 1,\n",
              " 'h': 2,\n",
              " 'i': 6,\n",
              " 's': 7,\n",
              " ' ': 15,\n",
              " 'a': 5,\n",
              " 'g': 1,\n",
              " 'n': 6,\n",
              " 'm': 2,\n",
              " 'e': 10,\n",
              " 't': 10,\n",
              " 'd': 4,\n",
              " 'o': 6,\n",
              " 'u': 4,\n",
              " 'r': 3,\n",
              " 'y': 2,\n",
              " 'b': 3,\n",
              " 'l': 1,\n",
              " 'J': 1,\n",
              " 'p': 1,\n",
              " 'N': 1,\n",
              " 'k': 1,\n",
              " '.': 1}"
            ]
          },
          "metadata": {},
          "execution_count": 6
        }
      ],
      "source": [
        "character_frequency('This assignment is intended to ensure that you are able to edit and submit Jupyter Notebooks.')"
      ]
    },
    {
      "cell_type": "code",
      "execution_count": 4,
      "metadata": {
        "collapsed": true,
        "id": "-F8OTbHNrBUO"
      },
      "outputs": [],
      "source": []
    }
  ],
  "metadata": {
    "kernelspec": {
      "display_name": "Python 3 (ipykernel)",
      "language": "python",
      "name": "python3"
    },
    "language_info": {
      "codemirror_mode": {
        "name": "ipython",
        "version": 3
      },
      "file_extension": ".py",
      "mimetype": "text/x-python",
      "name": "python",
      "nbconvert_exporter": "python",
      "pygments_lexer": "ipython3",
      "version": "3.10.9"
    },
    "colab": {
      "provenance": [],
      "include_colab_link": true
    }
  },
  "nbformat": 4,
  "nbformat_minor": 0
}